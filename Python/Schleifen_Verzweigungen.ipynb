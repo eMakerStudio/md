{
 "cells": [
  {
   "cell_type": "markdown",
   "metadata": {},
   "source": [
  
    "# Tag 2: Schleifen und Verzweigungen\n",
    "\n",
    "\n",
    "## Verzweigungen"
   ]
  },
  
  {
   "cell_type": "markdown",
   "metadata": {},
   "source": [
    "In den seltesten Fällen laufen Programme einfach von oben nach unten ab. Es müssen während der Laufzeit eines Programmes Entscheidungen getroffen werden, die den Ablauf eines Programms ändern oder steuern.\n",
    "Weiterhin müssen Bewertungen durchgeführt, Auswahlen getroffen und diese bewertet werden.\n",
    "<br>\n",
    "Solche Dinge werden mit Schleifen und Verzweigungen realisiert.\n",
    "Die If-Anweisungen werden in diesen Beispiel von oben nach unten ausgewertet, je nachdem welchen Wert **x** besitzt, wird die \"Abzweigung\" genommen."
   ]
  },
  {
   "cell_type": "code",
   "execution_count": null,
   "metadata": {},
   "outputs": [],
   "source": [
    "x = 10\n",
    "if x != 10:\n",
    "    print(\"x ist nicht 10\")\n",
    "else:\n",
    "    print(\"x ist gleich 10\")"
   ]
  },
  {
   "cell_type": "markdown",
   "metadata": {},
   "source": [
    "Schleifen und Funktionen definieren sich durch die Einrückung. Diese sollte laut PEP8 4 Leerzeichen entsprechen. IDEs wie Pycharm, oder auch Jupyter Notebooks nehmen Ihnen die Arbeit ab, und wandeln ein \"TAB\" in 4 Leerzeichen um."
   ]
  },
  {
   "cell_type": "markdown",
   "metadata": {},
   "source": [
    "### Mehrfache Verzweigung:"
   ]
  },
  {
   "cell_type": "code",
   "execution_count": null,
   "metadata": {},
   "outputs": [],
   "source": [
    "x = 5\n",
    "print(\"x hat aktuell folgenden Wert:\", x)\n",
    "if x < 5:\n",
    "    print(\"x ist kleiner als 5\")\n",
    "\n",
    "if x == 5:\n",
    "    print(\"x entspricht haargenau 5\")\n",
    "\n",
    "if x > 5:\n",
    "    print(\"x ist größer als 5\")\n"
   ]
  },
  {
   "cell_type": "markdown",
   "metadata": {},
   "source": [
    "Eine weitere Möglichkeit der Verzweigungen ist die Verwendung von **elif** und **else**:"
   ]
  },
  {
   "cell_type": "code",
   "execution_count": null,
   "metadata": {},
   "outputs": [],
   "source": [
    "x = 6\n",
    "print(\"x hat aktuell folgenden Wert:\", x)\n",
    "if x < 5:\n",
    "    print(\"x ist kleiner als 5\")\n",
    "\n",
    "elif x == 5:\n",
    "    print(\"x entspricht haargenau 5\")\n",
    "\n",
    "else:\n",
    "    print(\"x ist größer als 5\")"
   ]
  },
  {
   "cell_type": "markdown",
   "metadata": {},
   "source": [
    "\n",
    "**Hinweis:** Weder **elif** noch **else** werden so richtig gebraucht, da die **if-** Verzweigungen nacheinander abgearbeitet werden.\n",
    "<br>"
   ]
  },
  {
   "cell_type": "markdown",
   "metadata": {},
   "source": [
    "### Noch ein Beispiel:\n",
    "Hier wird zuerst nach dem Wert gefragt, den **x** annehmen soll:"
   ]
  },
  {
   "cell_type": "code",
   "execution_count": null,
   "metadata": {},
   "outputs": [],
   "source": [
    "x = input(\"Bitte geben Sie eine Ganzzahl ein: \")\n",
    "\n",
    "x = int(x)\n",
    "\n",
    "print(\"x hat aktuell folgenden Wert:\", x)\n",
    "print()\n",
    "if x < 5:\n",
    "    print(\"x ist kleiner als 5\")\n",
    "\n",
    "elif x == 5:\n",
    "    print(\"x entspricht haargenau 5\")\n",
    "\n",
    "else:\n",
    "    print(\"x ist größer als 5\")"
   ]
  },
  {
   "cell_type": "markdown",
   "metadata": {},
   "source": [
    "### Spielchen gefällig?\n",
    "Wir schreiben uns ein kleines Ratespielchen. Als erstes wird eine Zufallszahl generiert, die wir erraten müssen.\n",
    "Um Zufallszahlen generieren zu können, müssen wir eine Bibliothek namens \"**random**\" importieren."
   ]
  },
  {
   "cell_type": "code",
   "execution_count": null,
   "metadata": {},
   "outputs": [],
   "source": [
    "import random # die Bibliothek wird importiert\n",
    "\n",
    "random.seed() # Die Zufallszahlen werden initialisiert\n",
    "\n",
    "zahl = random.randint(1,10) # Hier wird eine Zufallszahl generiert, die zwischen 1 und 10 liegt.\n",
    "print(zahl)\n",
    "eingabe = int(input(\"Bitte geben Sie eine Zahl zwischen 1 und 10 an: \")) # String in Integer umwandeln\n",
    "\n",
    "\n",
    "if zahl == eingabe: \n",
    "    print(\"Gratulation! Richtig geraten!\")\n",
    "else:\n",
    "    print(\"Leider falsch!\")\n"
   ]
  },
  {
   "cell_type": "markdown",
   "metadata": {},
   "source": [
    "So weit so gut, leider ist das jetzt müßig, das Programm immer wieder neu zu starten um eine **andere** Zahl zu erraten. Man könnte das als Schummeln auffassen. Daher bauen wir uns jetzt eine kleine Schleife ein."
   ]
  },
  {
   "cell_type": "markdown",
   "metadata": {},
   "source": [
    "## Schleifen:\n",
    "Schleifen sind ein wichtiges Werkzeug für den Programmablauf. Durch diese können beispielsweise Aktionen mehrfach durchgeführt oder Bewertungen mehrstufig durchgeführt werden.\n",
    "Es muss zwischen 2 Arten von Schleifen unterschieden werden. Die **for**-Schleife und die **while**-Schleife.\n",
    "\n",
    "* Eine **for**-Schleife wird verwendet, wenn zu immer der gleichen Zeit ein Programmschritt auf eine bekannte Folge von Werten ausgeführt werden soll.\n",
    "* Eine **while**-Schleife wird verwendet, wenn sich erst durch z.B. eine Eingabe des Benutzers ergibt, ob ein Programmschritt (ggf. mehrfach) ausgeführt werden soll, oder nicht.\n",
    "\n",
    "Eine **for**-Schleife wird auch **Zählschleife** genannt, eine **while**-Schleife **bedingungsgesteuerte Schleife**.\n"
   ]
  },
  {
   "cell_type": "markdown",
   "metadata": {},
   "source": [
    "Nachfolgend ein Beispiel für eine **for**-Schleife:"
   ]
  },
  {
   "cell_type": "code",
   "execution_count": null,
   "metadata": {},
   "outputs": [],
   "source": [
    "for i in 3, 6, 9:  # Das Zwischenergebnis wird in der Variable i gespeichert, 3, 6, 9 sind die Werte die abgearbeitet werden.\n",
    "    erg = i + i\n",
    "    print(i, \"+\", i, \"=\",  erg)"
   ]
  },
  {
   "cell_type": "markdown",
   "metadata": {},
   "source": [
    "### itarable oder Iteration\n",
    "Eine Abfolge von Objekten kann auch mit einer **for**-Schleife durchlaufen werden können, nennt man **iterierbare Objekte** oder **iterables**. Solche **itarables** werden uns in Python immer wieder begegnen. Ein Beispiel wäre eine **Liste**.\n",
    "Dieser Vorgang wird iterieren genannt."
   ]
  },
  {
   "cell_type": "code",
   "execution_count": null,
   "metadata": {},
   "outputs": [],
   "source": [
    "tiere = [\"Hund\", \"Katze\", \"Maus\", \"Huhn\", \"Pferd\", \"Nashorn\"]\n",
    "for i in tiere:\n",
    "    print(i)"
   ]
  },
  {
   "cell_type": "markdown",
   "metadata": {},
   "source": [
    "### Schleifen abbrechen mit \"break\"\n",
    "Mit **break** haben wir die Möglichkeit eine Schleife vorzeitig zu beenden. Wir können so lange würfeln, \n",
    "bis wir eine **6** haben, danach dürfen wir einen Spielzug machen."
   ]
  },
  {
   "cell_type": "code",
   "execution_count": null,
   "metadata": {},
   "outputs": [],
   "source": [
    "for i in 3, 6, 9, 30, 60, 90:\n",
    "    erg = i + i\n",
    "    print(i, \"+\", i, \"=\",  erg)\n",
    "    if i + i > 100: \n",
    "        break\n",
    "     "
   ]
  },
  {
   "cell_type": "markdown",
   "metadata": {},
   "source": [
    "### Geschachtelte Kontrollstrukturen\n",
    "Oft reicht es nicht, **eine** Überprüfung vorzunehmen, oft spielen mehrere Faktoren eine Rolle:"
   ]
  },
  {
   "cell_type": "code",
   "execution_count": null,
   "metadata": {},
   "outputs": [],
   "source": [
    "for i in 3, -9 , 0:\n",
    "    print(i, \"*\", i, \"=\",  i)\n",
    "    if i * i > 0:\n",
    "        print(\"Die Zahl ist positiv\")\n",
    "    else:\n",
    "        if i * i < 0:\n",
    "            print(\"Die Zahl ist negativ\")\n",
    "        else: \n",
    "            print(\"Die Zahl ist gleich 0\")"
   ]
  },
  {
   "cell_type": "markdown",
   "metadata": {},
   "source": [
    "**Wichtig:** Gerade in umfangreicheren Schleifen und Kontrollstrukturen muss exakt die **Einrückung** der Schleifen und Verzweigungen eingehalten werden, da sonst ein falsches Ergebnis erreicht wird."
   ]
  },
  {
   "cell_type": "markdown",
   "metadata": {},
   "source": [
    "### Unser Spielchen mit einer **for**-Schleife und **Abbruch**:"
   ]
  },
  {
   "cell_type": "code",
   "execution_count": null,
   "metadata": {},
   "outputs": [],
   "source": [
    "import random # die Bibliothek wird inportiert\n",
    "\n",
    "for i in 1, 2, 3, 4:  # 4 Runden\n",
    "    random.seed() \n",
    "    zahl = random.randint(1,10)\n",
    "    \n",
    "    eingabe = int(input(\"Bitte geben Sie eine Zahl zwischen 1 und 10 an: \"))\n",
    "\n",
    "    if zahl == eingabe: \n",
    "        print(\"Gratulation! Richtig geraten!\")\n",
    "\n",
    "    else:\n",
    "        print(\"Leider falsch!\")\n",
    "        break  # Wenn Falsch geraten wurde, ist man raus!"
   ]
  },
  {
   "cell_type": "markdown",
   "metadata": {},
   "source": [
    "### for- Schleife mit range()\n",
    "Anstatt die Zahlen komplett selber vorzugeben, kann man sich auch Funktionen wie ***range()*** bedienen:\n"
   ]
  },
  {
   "cell_type": "code",
   "execution_count": null,
   "metadata": {},
   "outputs": [],
   "source": [
    "for i in range(30,41,1):\n",
    "    erg = i + i\n",
    "    print(i, \"+\", i, \"=\",  erg)\n"
   ]
  },
  {
   "cell_type": "markdown",
   "metadata": {},
   "source": [
    "Hinweis: Ein kleiner Nachteil an Python ist, das manche Funtionen auf verschiede Arten den Start und das Ende definieren. Mal fangen Funktionen bei 0 an, mal bei 1. Bei einigen Funktionen wird die letzte Zahl ausgegeben, bei anderen nicht, daher ist es sinnvoll diese Funktionen erst zu testen, sollte man sich da unsicher sein."
   ]
  },
  {
   "cell_type": "markdown",
   "metadata": {},
   "source": [
    "### Die ***while***-Schleife\n",
    "Die ***while***-Schleife dient wie vorher erwähnt der ***bedingungsgesteuerten*** Schleifenbildung.\n",
    "In dem folgenden Beispiel lassen wir zufallsgesteuerte Werte so lange addieren, bis der Wert 50 erreicht, bzw. mit dem Schleifendurchlauf das erste mal überschreitet."
   ]
  },
  {
   "cell_type": "code",
   "execution_count": null,
   "metadata": {},
   "outputs": [],
   "source": [
    "import random\n",
    "random.seed()\n",
    "erg = 0 # variable initialisieren\n",
    "while erg < 50:\n",
    "    a = random.randint(20,30)\n",
    "    b = random.randint(20,30)\n",
    "    erg = a + b\n",
    "    print(a, \"+\", b, \"=\", erg)"
   ]
  },
  {
   "cell_type": "markdown",
   "metadata": {},
   "source": [
    "### Unser Spiel mit einer while-Schleife"
   ]
  },
  {
   "cell_type": "code",
   "execution_count": null,
   "metadata": {},
   "outputs": [],
   "source": [
    "import random # die Bibliothek wird inportiert\n",
    "\n",
    "for i in 1, 2, 3, 4: # 4 Runden\n",
    "    random.seed() \n",
    "    zahl = random.randint(1,10)\n",
    "    versuch = 0\n",
    "    \n",
    "    while zahl != eingabe:\n",
    "        versuch +=1  # Das ist die Python version von versuch = versuch + 1, was man auch nutzen kann\n",
    "    \n",
    "        eingabe = int(input(\"Bitte geben Sie eine Zahl zwischen 1 und 10 an: \"))\n",
    "\n",
    "        if zahl != eingabe: \n",
    "            print(\"Leider falsch\")\n",
    "    \n",
    "    print(\"Gratulation! Richtig geraten!\")\n",
    "    print(\"Sie haben \", versuch, \"Versuche benötigt!\")\n"
   ]
  },
  {
   "cell_type": "markdown",
   "metadata": {},
   "source": [
    "<img style=\"float: center;\" src=\"img/wbs-logo.jpg\">\n",
    "\n",
    "\n",
    "### Abbildungs- und Quellenverzeichnis\n",
    "\n",
    "Das Python Logo ist ein eingetragenes Warenzeichen der Python Software Foundation\n",
    "Alle auf dieser Website veröffentlichten Logos sowie Marken-, Produkt- und Warenzeichen sind Eigentum der jeweiligen Unternehmen\n",
    "© WBS TRAINING AG – Alle Rechte vorbehalten\n",
    "\n",
    "### Nutzungsrechte:\n",
    "Die Nutzung dieser Dokumentation ist ausschließlich für Schulungszwecke der WBS TRAINING AG gestattet. Eine Weitergabe an Dritte, auch auszugsweise, sowie Vervielfältigungen und Verbreitungen aller Art (elektronische und andere Verfahren) inklusive Übersetzungen sind nur mit vorheriger schriftlicher Zustimmung des Rechtinhabers gestattet. Zuwiderhandlungen verpflichten zu Schadenersatz.\n",
    "\n",
    "### Herausgeberin:\n",
    "\n",
    "Barbara Hohensee/ Comhard\n",
      "\n",
    "### Haftungsausschluss:\n",
    "Alle Inhalte sind nach bestem Wissen korrekt und vollständig recherchiert und mit größtmöglicher Sorgfalt für die Schulungsunterlage zusammengestellt. Wir sind um die laufende Aktualisierung aller Informationen und Daten bemüht. Dennoch können Fehler (z.B. Abweichungen zur beschriebenen Hard- und Software durch kurzfristige Updates) auftreten, sodass wir für die vollständige Übereinstimmung, Richtigkeit und Aktualität keine Gewähr übernehmen. Hinweise unserer Nutzer werden konsequent weiterverfolgt."
   ]
  }
 ],
 "metadata": {
  "kernelspec": {
   "display_name": "Python 3",
   "language": "python",
   "name": "python3"
  },
  "language_info": {
   "codemirror_mode": {
    "name": "ipython",
    "version": 3
   },
   "file_extension": ".py",
   "mimetype": "text/x-python",
   "name": "python",
   "nbconvert_exporter": "python",
   "pygments_lexer": "ipython3",
   "version": "3.8.5"
  }
 },
 "nbformat": 4,
 "nbformat_minor": 4
}
