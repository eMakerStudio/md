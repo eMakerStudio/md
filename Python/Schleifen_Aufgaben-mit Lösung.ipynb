{
 "cells": [
  {
   "cell_type": "markdown",
   "metadata": {},
   "source": [
    "<img style=\"float: right;\" src=\"img/python.png\">\n",
    "\n",
    "# Aufgaben Tag 2\n",
    "\n",
    "## Aufgabe 1:\n",
    "<br>\n",
    "Erstellen Sie eine einfach Verzweigung, die 2 Strings vergleicht. \n",
    "Mögliche Ausgabe beispielsweise: \"Äpfel sind keine Birnen\" oder \"Äpfel sind Äpfel\""
   ]
  },
  {
   "cell_type": "code",
   "execution_count": null,
   "metadata": {},
   "outputs": [],
   "source": [
    "x = \"Äpfel\"\n",
    "y = \"Birnen\"\n",
    "\n",
    "if x != y:\n",
    "    print(x, \" sind keine \", y)\n",
    "if x == y:\n",
    "    print(x, \" sind \", y)\n",
    "    \n"
   ]
  },
  {
   "cell_type": "markdown",
   "metadata": {},
   "source": [
    "## Aufgabe 2:\n",
    "Benutzen Sie eine Verzweigung mit ***else*** und ***elif*** um eine eingegebene Zahl zu bewerten und entsprechend eine der folgenden Ausgabe zu generieren (Die Zahlen dürfen natürlich abweichen):\n",
    "* Die Zahl 10 ist positiv\n",
    "* Die Zahl -10 ist gegativ\n",
    "* Die Zahl 0 entspricht 0\n",
    "\n",
    "Beispielausgabe:\n",
    "<br>\n",
    "<img style=\"float: left;\" src=\"img/aufgabe1.jpg\">\n"
   ]
  },
  {
   "cell_type": "code",
   "execution_count": null,
   "metadata": {},
   "outputs": [],
   "source": [
    "x = input(\"Bitte geben Sie eine Zahl ein: \")\n",
    "x = int(x)\n",
    "if x < 5:\n",
    "    print(\"x ist negativ\")\n",
    "\n",
    "elif x == 5:\n",
    "    print(\"x ist 0\")\n",
    "\n",
    "else:\n",
    "    print(\"x ist positiv\")"
   ]
  },
  {
   "cell_type": "markdown",
   "metadata": {},
   "source": [
    "## Aufgabe 3:\n",
    "Schreiben Sie eine ***for***-Schleife, die die Werte 47, 8, 15 mit sich selber multipliziert.\n",
    "Gewünschte Ausgabe zum Beispiel:\n",
    "47 + 47 = 94"
   ]
  },
  {
   "cell_type": "code",
   "execution_count": null,
   "metadata": {},
   "outputs": [],
   "source": [
    "for i in 47, 8, 15 :\n",
    "    print(i, \" + \",i ,\" = \", i+i)"
   ]
  },
  {
   "cell_type": "markdown",
   "metadata": {},
   "source": [
    "## Aufgabe 4:\n",
    "Bitte lassen Sie alle graden Zahlen von 30 bis 60 miteinander addieren. Bei dem Ergebnis von 90 soll die Schleife stoppen. <br>\n",
    "Nutzen Sie dazu eine ***for***-Schleife."
   ]
  },
  {
   "cell_type": "code",
   "execution_count": null,
   "metadata": {},
   "outputs": [],
   "source": [
    "\n",
    "for i in range(30,60,2):\n",
    "    summe = i + i\n",
    "    if summe >= 90:\n",
    "        break\n",
    "    print(i, \" + \", i ,\" = \", summe)"
   ]
  },
  {
   "cell_type": "markdown",
   "metadata": {},
   "source": [
    "## Aufgabe 5:\n",
    "Sie möchten, die Prozentangaben der Themenfeldprüfung in die Noten 1-6 (sehr gut, gut, befriedigend, magelhaft und ungenügend) umrechnen.\n",
    "Schreiben Sie sich dazu ein Programm."
   ]
  },
  {
   "cell_type": "code",
   "execution_count": null,
   "metadata": {},
   "outputs": [],
   "source": [
    "note = input(\"Bitte geben Sie ihre Note in % ein, Bitte OHNE Prozentzeichen: \")\n",
    "print()\n",
    "note = int(note)\n",
    "\n",
    "if 100 >= note >= 92:\n",
    "    print(\"Ihre Note entspricht eine 1 - sehr gut\") \n",
    "if 91 >= note >= 81:\n",
    "    print(\"Ihre Note entspricht eine 2 - gut\")\n",
    "if 80 >= note >= 67:\n",
    "    print(\"Ihre Note entspricht eine 3 - befriedigend\")\n",
    "if 66 >= note >= 50:\n",
    "    print(\"Ihre Note entspricht eine 4 - ausrechend\")\n",
    "    \n",
    "if 49 >= note >= 30:\n",
    "    print(\"Ihre Note entspricht eine 5 - magelhaft\")\n",
    "if 29 >= note >= 0:\n",
    "    print(\"Ihre Note entspricht eine 6 - ungenügend\")"
   ]
  },
  {
   "cell_type": "markdown",
   "metadata": {},
   "source": [
 
    "\n",
    "### Abbildungs- und Quellenverzeichnis\n",
    "https://de.wikipedia.org/wiki/Python_(Programmiersprache)\n",
    "Das Python Logo ist ein eingetragenes Warenzeichen der Python Software Foundation\n",
    "Alle auf dieser Website veröffentlichten Logos sowie Marken-, Produkt- und Warenzeichen sind Eigentum der jeweiligen Unternehmen\n",
    " – Alle Rechte vorbehalten\n",
    "\n",
    "### Nutzungsrechte:\n",
    "Die Nutzung dieser Dokumentation ist ausschließlich für Schulungszwecke der gestattet. Eine Weitergabe an Dritte, auch auszugsweise, sowie Vervielfältigungen und Verbreitungen aller Art (elektronische und andere Verfahren) inklusive Übersetzungen sind nur mit vorheriger schriftlicher Zustimmung des Rechtinhabers gestattet. Zuwiderhandlungen verpflichten zu Schadenersatz.\n",
    "\n",
    "### Herausgeber:\n",
    "\n",
    "Barbara Hohensee/ Comhard\n",

    "\n",
    "### Haftungsausschluss:\n",
    "Alle Inhalte sind nach bestem Wissen korrekt und vollständig recherchiert und mit größtmöglicher Sorgfalt für die Schulungsunterlage zusammengestellt. Wir sind um die laufende Aktualisierung aller Informationen und Daten bemüht. Dennoch können Fehler (z.B. Abweichungen zur beschriebenen Hard- und Software durch kurzfristige Updates) auftreten, sodass wir für die vollständige Übereinstimmung, Richtigkeit und Aktualität keine Gewähr übernehmen. Hinweise unserer Nutzer werden konsequent weiterverfolgt.\n"
   ]
  },
  {
   "cell_type": "code",
   "execution_count": null,
   "metadata": {},
   "outputs": [],
   "source": []
  }
 ],
 "metadata": {
  "kernelspec": {
   "display_name": "Python 3",
   "language": "python",
   "name": "python3"
  },
  "language_info": {
   "codemirror_mode": {
    "name": "ipython",
    "version": 3
   },
   "file_extension": ".py",
   "mimetype": "text/x-python",
   "name": "python",
   "nbconvert_exporter": "python",
   "pygments_lexer": "ipython3",
   "version": "3.8.5"
  }
 },
 "nbformat": 4,
 "nbformat_minor": 4
}
