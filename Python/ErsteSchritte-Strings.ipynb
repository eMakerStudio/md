{
 "cells": [
  {
   "cell_type": "markdown",
   "id": "c21b6f96",
   "metadata": {},
   "source": [
    "# Erste Schritte in Python"
   ]
  },
  {
   "cell_type": "markdown",
   "id": "0c29b57b",
   "metadata": {},
   "source": [
    "## Text auf dem Bildschirm ausgeben"
   ]
  },
  {
   "cell_type": "markdown",
   "id": "2df2f493",
   "metadata": {},
   "source": [
    "### Einfache Anführungsstriche"
   ]
  },
  {
   "cell_type": "code",
   "execution_count": 6,
   "id": "142a951c",
   "metadata": {},
   "outputs": [
    {
     "name": "stdout",
     "output_type": "stream",
     "text": [
      "Hello World!\n"
     ]
    }
   ],
   "source": [
    "print('Hello World!')"
   ]
  },
  {
   "cell_type": "markdown",
   "id": "d220e8d4",
   "metadata": {},
   "source": [
    "Eigenen Code einfügen und Shift+Enter drücken oder den Run Button aus der Menüzeile"
   ]
  },
  {
   "cell_type": "code",
   "execution_count": 10,
   "id": "9eb63f4a",
   "metadata": {},
   "outputs": [],
   "source": [
    "#Zeileninhalt löschen, eigenen Code einfügen und Shift+Enter drücken oder den Run Button aus der Menüzeile"
   ]
  },
  {
   "cell_type": "markdown",
   "id": "e108559a",
   "metadata": {},
   "source": [
    "### Zwei verschiende Anführungsstriche nötig wenn z.B. Apostroph gebraucht wird"
   ]
  },
  {
   "cell_type": "code",
   "execution_count": 9,
   "id": "0c9d0e88",
   "metadata": {},
   "outputs": [
    {
     "name": "stdout",
     "output_type": "stream",
     "text": [
      "Hello Peter’s World!\n"
     ]
    }
   ],
   "source": [
    "print(\"Hello Peter’s World!\")"
   ]
  },
  {
   "cell_type": "markdown",
   "id": "27e8ac93",
   "metadata": {},
   "source": [
    "### Doppelte Anführungsstriche"
   ]
  },
  {
   "cell_type": "code",
   "execution_count": 11,
   "id": "c46bbf57",
   "metadata": {},
   "outputs": [
    {
     "name": "stdout",
     "output_type": "stream",
     "text": [
      "Hello There!\n"
     ]
    }
   ],
   "source": [
    "print(\"Hello There!\")"
   ]
  },
  {
   "cell_type": "markdown",
   "id": "1fa432d1",
   "metadata": {},
   "source": [
    "### Text mit Zeilenumbruch ausgeben"
   ]
  },
  {
   "cell_type": "code",
   "execution_count": 12,
   "id": "214ea56f",
   "metadata": {},
   "outputs": [
    {
     "name": "stdout",
     "output_type": "stream",
     "text": [
      "Hello There!\n",
      "How are you?\n"
     ]
    }
   ],
   "source": [
    "print(\"Hello There!\\nHow are you?\")"
   ]
  },
  {
   "cell_type": "markdown",
   "id": "d2c632ab",
   "metadata": {},
   "source": [
    "## Aufgabe 1: der folgene Text soll auf dem Bildschirm ausgegeben werden:"
   ]
  },
  {
   "cell_type": "raw",
   "id": "b1db5f30",
   "metadata": {},
   "text": [
    "It's a small world"
   ]
  },
  {
   "cell_type": "code",
   "execution_count": null,
   "id": "91eb8e11",
   "metadata": {},
   "outputs": [],
   "source": [
    "# dein Code"
   ]
  },
  {
   "cell_type": "markdown",
   "id": "fc39989d",
   "metadata": {},
   "source": [
    "## Aufgabe 2: der folgene Text soll in zwei Zeilen ausgegeben werden:"
   ]
  },
  {
   "cell_type": "raw",
   "id": "c95ee96c",
   "metadata": {},
   "source": [
    "Hallo Emma-Marie"
   ]
  },
  {
   "cell_type": "raw",
   "id": "63a57612",
   "metadata": {},
   "source": [
    "Wie geht's dir?"
   ]
  },
  {
   "cell_type": "code",
   "execution_count": 15,
   "id": "2108bd40",
   "metadata": {},
   "outputs": [],
   "source": [
    "# dein Code"
   ]
  },
  {
   "cell_type": "markdown",
   "id": "5576b50d",
   "metadata": {},
   "source": [
    "# Variableln mit Text"
   ]
  },
  {
   "cell_type": "markdown",
   "id": "4fe7077e",
   "metadata": {},
   "source": [
    "### Erstellen der Variabeln"
   ]
  },
  {
   "cell_type": "code",
   "execution_count": 16,
   "id": "3dbe0245",
   "metadata": {},
   "outputs": [],
   "source": [
    "name = \"Emma-Marie\""
   ]
  },
  {
   "cell_type": "markdown",
   "id": "85bd86c0",
   "metadata": {},
   "source": [
    "### Ausgeben des Inhalts der Variabeln auf dem Bildschirm"
   ]
  },
  {
   "cell_type": "code",
   "execution_count": 18,
   "id": "a77c216c",
   "metadata": {},
   "outputs": [
    {
     "name": "stdout",
     "output_type": "stream",
     "text": [
      "Emma-Marie\n"
     ]
    }
   ],
   "source": [
    "print(name)"
   ]
  },
  {
   "cell_type": "code",
   "execution_count": 20,
   "id": "ab8ba731",
   "metadata": {},
   "outputs": [],
   "source": [
    "# Eigener Code mit dem eigenen Namen"
   ]
  },
  {
   "cell_type": "code",
   "execution_count": null,
   "id": "b8981962",
   "metadata": {},
   "outputs": [],
   "source": []
  },
  {
   "cell_type": "markdown",
   "id": "26d8fe6d",
   "metadata": {},
   "source": [
    "# Eingabe über die Tastatur"
   ]
  },
  {
   "cell_type": "markdown",
   "id": "da088e94",
   "metadata": {},
   "source": [
    "Mit dem Kommando *input* Zeichen von der Tastatur entgegen nehmen und in eine Variabel abspeichern."
   ]
  },
  {
   "cell_type": "code",
   "execution_count": 4,
   "id": "ea4b700e",
   "metadata": {},
   "outputs": [
    {
     "name": "stdout",
     "output_type": "stream",
     "text": [
      "Emma\n"
     ]
    }
   ],
   "source": [
    "name = input(\"Was ist Dein Name?\")\n",
    "print(name)"
   ]
  },
  {
   "cell_type": "code",
   "execution_count": 3,
   "id": "85efa925",
   "metadata": {},
   "outputs": [],
   "source": [
    "#eigener Code"
   ]
  },
  {
   "cell_type": "code",
   "execution_count": null,
   "id": "705c51fa",
   "metadata": {},
   "outputs": [],
   "source": []
  },
  {
   "cell_type": "markdown",
   "id": "ad20d46d",
   "metadata": {},
   "source": [
    "## Was ist hier die Ausgabe?"
   ]
  },
  {
   "cell_type": "code",
   "execution_count": null,
   "id": "417abddb",
   "metadata": {},
   "outputs": [],
   "source": [
    "name = input(\"Was ist Dein Name? \")\n",
    "print(name)\n",
    "name = \"Emma-Marie\"\n",
    "print(name)"
   ]
  },
  {
   "cell_type": "markdown",
   "id": "484adc15",
   "metadata": {},
   "source": [
    "## Kombinieren von Variabeln + Strings"
   ]
  },
  {
   "cell_type": "code",
   "execution_count": null,
   "id": "d791c267",
   "metadata": {},
   "outputs": [],
   "source": [
    "firstName = input(\"What is your first name? \")\n",
    "lastName = input(\"What is your last name? \")\n",
    "print(\"Hello \" + firstName + \" \" + lastName)"
   ]
  },
  {
   "cell_type": "code",
   "execution_count": 10,
   "id": "79bec386",
   "metadata": {},
   "outputs": [],
   "source": [
    "# eigener Code"
   ]
  },
  {
   "cell_type": "markdown",
   "id": "21e8d823",
   "metadata": {},
   "source": [
    "## Aufgabe \"Story Telling\""
   ]
  },
  {
   "cell_type": "code",
   "execution_count": 12,
   "id": "de40ae8e",
   "metadata": {},
   "outputs": [
    {
     "name": "stdout",
     "output_type": "stream",
     "text": [
      "Hickory Dickory Dock!\n",
      "The red dog ran up the Fernsehrturm\n"
     ]
    }
   ],
   "source": [
    "animal = input(\"What is your favorite animal? \")\n",
    "building = input(\"Name of a famous building: \")\n",
    "color = input(\"What is your favorite color? \")\n",
    "print(\"Hickory Dickory Dock!\")\n",
    "print(\"The \" + color + \" \" + animal + \" ran up the \" + building)"
   ]
  },
  {
   "cell_type": "markdown",
   "id": "377d15ce",
   "metadata": {},
   "source": [
    "## Eigene Aufgabe"
   ]
  },
  {
   "cell_type": "markdown",
   "id": "ae893b23",
   "metadata": {},
   "source": [
    "Die Benutzer sollen 3 Fragen beantworten:\n",
    "1. Name\n",
    "2. Alter\n",
    "3. Geburtsort\n",
    "Die Antworten auf die Fragen sollen in den folgenden Variabeln gespeichert werden:\n",
    "1. name\n",
    "2. alter\n",
    "3. ort\n",
    "Anschließend soll am Bildschirm eine Ausgabe wie diese erscheinen:\n",
    "Hallo Jane Bond!\n",
    "Du bist 41 Jahre alt und geboren in England."
   ]
  },
  {
   "cell_type": "code",
   "execution_count": 11,
   "id": "0d8aa579",
   "metadata": {},
   "outputs": [],
   "source": [
    "#dein Code"
   ]
  },
  {
   "cell_type": "markdown",
   "id": "8fb8df02",
   "metadata": {},
   "source": [
    "## Text Manipulation"
   ]
  },
  {
   "cell_type": "code",
   "execution_count": 13,
   "id": "05d589e0",
   "metadata": {},
   "outputs": [
    {
     "name": "stdout",
     "output_type": "stream",
     "text": [
      "hello world!\n",
      "HELLO WORLD!\n",
      "hELLO wORLD!\n"
     ]
    }
   ],
   "source": [
    "message = \"Hello World!\"\n",
    "print(message.lower())\n",
    "print(message.upper())\n",
    "print(message.swapcase())"
   ]
  },
  {
   "cell_type": "code",
   "execution_count": 14,
   "id": "aa0df930",
   "metadata": {},
   "outputs": [],
   "source": [
    "#eigener Code"
   ]
  },
  {
   "cell_type": "markdown",
   "id": "79259162",
   "metadata": {},
   "source": [
    "### Aufgabe: Was ist das Resultat auf dem Bildschierm?"
   ]
  },
  {
   "cell_type": "code",
   "execution_count": 19,
   "id": "e8deb555",
   "metadata": {},
   "outputs": [
    {
     "name": "stdout",
     "output_type": "stream",
     "text": [
      "6\n",
      "2\n",
      "Hello world\n",
      "Hi world\n"
     ]
    }
   ],
   "source": [
    "message = 'Hello world'\n",
    "print(message.find('world'))\n",
    "print(message.count('o'))\n",
    "print(message.capitalize())\n",
    "print(message.replace('Hello', 'Hi'))"
   ]
  },
  {
   "cell_type": "code",
   "execution_count": 20,
   "id": "dcbaf22c",
   "metadata": {},
   "outputs": [],
   "source": [
    "#Eigener Code"
   ]
  },
  {
   "cell_type": "markdown",
   "id": "52a9d760",
   "metadata": {},
   "source": [
    "## Aufgabe"
   ]
  },
  {
   "cell_type": "markdown",
   "id": "65d7e64a",
   "metadata": {},
   "source": [
    "Text auf dem Bildschirm: Bitte Namen eingeben:"
   ]
  },
  {
   "cell_type": "markdown",
   "id": "143b0f93",
   "metadata": {},
   "source": [
    "Die Ausgabe auf dem Bildschirm nachdem der Name eingegeben wurde:\n",
    "Egal ob Groß- oder Kleinschreibung verwendet wurde, soll der Name in GROSSBUCHSTABEN geschrieben sein"
   ]
  },
  {
   "cell_type": "markdown",
   "id": "9aed9bce",
   "metadata": {},
   "source": [
    "Testdaten:\n",
    "Jane Bond,\n",
    "JANE do,\n",
    "John do"
   ]
  },
  {
   "cell_type": "code",
   "execution_count": 21,
   "id": "853d9307",
   "metadata": {},
   "outputs": [],
   "source": [
    "#dein Code"
   ]
  },
  {
   "cell_type": "markdown",
   "id": "eccb443d",
   "metadata": {},
   "source": [
    "## Eigene Aufgabe "
   ]
  },
  {
   "cell_type": "markdown",
   "id": "6de72aef",
   "metadata": {},
   "source": [
    "Der eingegebene Ländername soll in Grossbuchstaben ausgegeben werden, egal was eingegeben wird: Testdaten: irland, Irland, IRLAND"
   ]
  },
  {
   "cell_type": "code",
   "execution_count": 22,
   "id": "65d2efcc",
   "metadata": {},
   "outputs": [],
   "source": [
    "countryName = input(\"Please enter your country: \")"
   ]
  },
  {
   "cell_type": "code",
   "execution_count": 23,
   "id": "58d4d39e",
   "metadata": {},
   "outputs": [],
   "source": [
    "#eigener Code"
   ]
  },
  {
   "cell_type": "code",
   "execution_count": null,
   "id": "d2fd5c9c",
   "metadata": {},
   "outputs": [],
   "source": []
  }
 ],
 "metadata": {
  "kernelspec": {
   "display_name": "Python 3.8.10 64-bit",
   "language": "python",
   "name": "python3"
  },
  "language_info": {
   "codemirror_mode": {
    "name": "ipython",
    "version": 3
   },
   "file_extension": ".py",
   "mimetype": "text/x-python",
   "name": "python",
   "nbconvert_exporter": "python",
   "pygments_lexer": "ipython3",
   "version": "3.8.10"
  },
  "vscode": {
   "interpreter": {
    "hash": "916dbcbb3f70747c44a77c7bcd40155683ae19c65e1c03b4aa3499c5328201f1"
   }
  }
 },
 "nbformat": 4,
 "nbformat_minor": 5
}
