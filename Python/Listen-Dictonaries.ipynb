{
 "cells": [
  {
   "cell_type": "markdown",
   "metadata": {},
   "source": [
    "<img style=\"float: right;\" src=\"img/python.png\">\n",
    "\n",
    "# Tag 3: Listen, Tupel, Dictionaries\n",
    "## Listen <br>\n",
    "\n",
    "Listen sind eine Abfolge von Daten. Sie können auch Daten unterschiedlichen Typs enthalten, oder sogar weitere Listen.\n",
    "Listen sind sehr flexibel und können erweitert und gekürzt werden, Elemente entfernt werden uvm.\n",
    "Eine Liste bietet vielfältige Möglichkeiten, sogar die Funktionalität von ein- und mehrdimensionalen Feldern (bei anderen Spachen: Arrays).\n",
    "<br><br><br>\n",
    "\n"
   ]
  },
  {
   "cell_type": "markdown",
   "metadata": {},
   "source": [
    "Listen sind ***mutable***. Das heißt sie sind ***veränderbar***. Das trifft nicht auf alles listenartige Elemente (z.B. Tupel) zu.<br>\n",
    "Nachfolgend ein paar Beispiele zu Listen:\n"
   ]
  },
  {
   "cell_type": "markdown",
   "metadata": {},
   "source": [
    "Eine Liste von  Zahlen:"
   ]
  },
  {
   "cell_type": "code",
   "execution_count": null,
   "metadata": {},
   "outputs": [],
   "source": [
    "\n",
    "z = [3,8,25.5,10,100,5000]\n",
    "print(\"Gesamte Liste:\")\n",
    "print(z)\n",
    "print(\"Ein Element einer Liste:\")\n",
    "print(z[3])\n",
    "print(\"einen Teil der Liste - Slice:\")\n",
    "print(z[0:2])\n"
   ]
  },
  {
   "cell_type": "markdown",
   "metadata": {},
   "source": [
    "Eine Liste von Strings:"
   ]
  },
  {
   "cell_type": "code",
   "execution_count": null,
   "metadata": {},
   "outputs": [],
   "source": [
    "s = [\"Wilhelmshaven\", \"Bremen\", \"Oldenburg\", \"Aurich\", \"Delmenhorst\"]\n",
    "print(s)\n",
    "print(\"Anzahl der Listenelemente: \", len(s))"
   ]
  },
  {
   "cell_type": "markdown",
   "metadata": {},
   "source": [
    "Eine Liste mit Listen:"
   ]
  },
  {
   "cell_type": "code",
   "execution_count": null,
   "metadata": {},
   "outputs": [],
   "source": [
    "l= [[3,8,25.5,10,100,5000], [\"Wilhelmshaven\", \"Bremen\", \"Oldenburg\", \"Aurich\", \"Delmenhorst\"], [\"Äpfel\", \"Birnen\", \"Pflaumen\"]]\n",
    "print(l)\n",
    "print(\"Anzahl der Elemente der Liste: \", len(l))"
   ]
  },
  {
   "cell_type": "markdown",
   "metadata": {},
   "source": [
    "### Operatoren und Listen\n",
    "Es können auch Operatoren auf Listen benutzt werden:"
   ]
  },
  {
   "cell_type": "code",
   "execution_count": null,
   "metadata": {},
   "outputs": [],
   "source": [
    "o = [\"Äpfel\", \"Birnen\", \"Pflaumen\"]\n",
    "s = [\"Wilhelmshaven\", \"Bremen\", \"Oldenburg\", \"Aurich\", \"Delmenhorst\"]\n",
    "so = s + o\n",
    "print(\"Städte: \", s)\n",
    "print(\"Obst: \", o)\n",
    "print(\"Stobst:\", so)\n",
    "\n",
    "print(\"Doppeltgemoppelt:\", so * 2)\n"
   ]
  },
  {
   "cell_type": "markdown",
   "metadata": {},
   "source": [
    "### Listen verändern:\n"
   ]
  },
  {
   "cell_type": "markdown",
   "metadata": {},
   "source": [
    "Ein Element der Liste ersetzen: <br>\n",
    "Bitte beachten Sie, das bei Listen das erste Element die Nummer ***0*** hat."
   ]
  },
  {
   "cell_type": "code",
   "execution_count": null,
   "metadata": {},
   "outputs": [],
   "source": [
    "s = [\"Wilhelmshaven\", \"Bremen\", \"Oldenburg\", \"Aurich\", \"Delmenhorst\"]\n",
    "print(\"Liste alt:\")\n",
    "print(s)\n",
    "print()\n",
    "s[1]=\"Emden\"\n",
    "print(\"Liste neu:\")\n",
    "print(s)\n",
    "\n"
   ]
  },
  {
   "cell_type": "markdown",
   "metadata": {},
   "source": [
    "Einen Teil der Liste ersetzen:"
   ]
  },
  {
   "cell_type": "code",
   "execution_count": null,
   "metadata": {},
   "outputs": [],
   "source": [
    "s = [\"Wilhelmshaven\", \"Bremen\", \"Oldenburg\", \"Aurich\", \"Delmenhorst\"]\n",
    "print(\"Liste alt:\")\n",
    "print(s)\n",
    "print()\n",
    "s[1:3]=[\"Emden\", \"Jemgum\", \"Bingum\"]\n",
    "print(\"Liste neu:\")\n",
    "print(s)"
   ]
  },
  {
   "cell_type": "markdown",
   "metadata": {},
   "source": [
    "Löschen eines Elements:"
   ]
  },
  {
   "cell_type": "code",
   "execution_count": null,
   "metadata": {},
   "outputs": [],
   "source": [
    "s = [\"Wilhelmshaven\", \"Bremen\", \"Oldenburg\", \"Aurich\", \"Delmenhorst\"]\n",
    "print(\"Liste alt:\")\n",
    "print(s)\n",
    "print()\n",
    "del s[1]\n",
    "print(\"Liste neu:\")\n",
    "print(s)"
   ]
  },
  {
   "cell_type": "markdown",
   "metadata": {},
   "source": [
    "Ein Element an das Ende der Liste anhängen:"
   ]
  },
  {
   "cell_type": "code",
   "execution_count": null,
   "metadata": {},
   "outputs": [],
   "source": [
    "s = [\"Wilhelmshaven\", \"Bremen\", \"Oldenburg\", \"Aurich\", \"Delmenhorst\"]\n",
    "print(\"Liste alt:\")\n",
    "print(s)\n",
    "print()\n",
    "s.append(\"Hamburg\")\n",
    "print(\"Liste neu:\")\n",
    "print(s)"
   ]
  },
  {
   "cell_type": "markdown",
   "metadata": {},
   "source": [
    "Sortieren der Liste:"
   ]
  },
  {
   "cell_type": "code",
   "execution_count": null,
   "metadata": {},
   "outputs": [],
   "source": [
    "s = [\"Wilhelmshaven\", \"Bremen\", \"Oldenburg\", \"Aurich\", \"Delmenhorst\"]\n",
    "print(\"Liste alt:\")\n",
    "print(s)\n",
    "print()\n",
    "s.sort()\n",
    "print(\"Liste sortiert:\")\n",
    "print(s)"
   ]
  },
  {
   "cell_type": "markdown",
   "metadata": {},
   "source": [
    "Umdrehen der Liste:"
   ]
  },
  {
   "cell_type": "code",
   "execution_count": null,
   "metadata": {},
   "outputs": [],
   "source": [
    "s = [\"Wilhelmshaven\", \"Bremen\", \"Oldenburg\", \"Aurich\", \"Delmenhorst\"]\n",
    "print(\"Liste alt:\")\n",
    "print(s)\n",
    "print()\n",
    "s.reverse()\n",
    "print(\"Liste Umgedreht:\")\n",
    "print(s)"
   ]
  },
  {
   "cell_type": "markdown",
   "metadata": {},
   "source": [
    "### Listen ausgeben\n",
    "Um Listen vernünftig auszugeben, müssen diese iteriert werden. Dazu bedient man sich einer ***for*** schleife"
   ]
  },
  {
   "cell_type": "code",
   "execution_count": null,
   "metadata": {},
   "outputs": [],
   "source": [
    "s = [\"Wilhelmshaven\", \"Bremen\", \"Oldenburg\", \"Aurich\", \"Delmenhorst\"]\n",
    "for i in s:\n",
    "    print(i)"
   ]
  },
  {
   "cell_type": "markdown",
   "metadata": {},
   "source": [
    "## Tupel\n",
    "Der wichtigste Unterschied zwischen Listen und Tupel besteht darin, das Tupel nicht änderbar, und damit ***immutable*** sind. Ansonsten können die gleichen Funktionen und Operatoren auf Tupel angewendet werden, solange sie die Tupel nicht ändern.<br>\n",
    "Nachfolgend einige Beispiele von Tupel, diesmal ein wenig komprimiert."
   ]
  },
  {
   "cell_type": "code",
   "execution_count": null,
   "metadata": {},
   "outputs": [],
   "source": [
    "# Tupel können Klammern enthalten, müssen sie aber nicht:\n",
    "t1 = (4,8,-8,8.8)\n",
    "print(\"Mit Klammern: \", t1)\n",
    "t2 = 4,8,-8,8.8\n",
    "print(\"Ohne Klammern, oder doch nicht: \", t2)\n",
    "t3 = ((\"Bremen\", \"DE\", 569352), [\"Berlin\", \"DE\", 3645000])\n",
    "print(\"Mehrere Dimensionen, verschiedene Werte: \", t3)\n",
    "\n"
   ]
  },
  {
   "cell_type": "markdown",
   "metadata": {},
   "source": [
    "Der Versuch einen Wert im Tupel zu ersetzen ***scheitert***:"
   ]
  },
  {
   "cell_type": "code",
   "execution_count": null,
   "metadata": {},
   "outputs": [],
   "source": [
    "t3 = ((\"Bremen\", \"DE\", 569352), [\"Berlin\", \"DE\", 3645000])\n",
    "t3[0][0] = \"Hamburg\""
   ]
  },
  {
   "cell_type": "code",
   "execution_count": null,
   "metadata": {},
   "outputs": [],
   "source": [
    "t3 = ((\"Bremen\", \"DE\", 569352), [\"Berlin\", \"DE\", 3645000])\n",
    "print(\"Vorher:\", t3)\n",
    "t3[1][0] = \"Hamburg\"\n",
    "print(\"Nachher:\", t3)"
   ]
  },
  {
   "cell_type": "markdown",
   "metadata": {},
   "source": [
    "***Beispiel:*** Tupel in einer ***for***-Schleife."
   ]
  },
  {
   "cell_type": "code",
   "execution_count": null,
   "metadata": {},
   "outputs": [],
   "source": [
    "for i in 5,6,15:\n",
    "    print(\"i:\", i)"
   ]
  },
  {
   "cell_type": "markdown",
   "metadata": {},
   "source": [
    "***Als Tupel zuweisen:***"
   ]
  },
  {
   "cell_type": "code",
   "execution_count": null,
   "metadata": {},
   "outputs": [],
   "source": [
    "y,x = 5,15\n",
    "print(\"x: \", x, \" y: \", y)"
   ]
  },
  {
   "cell_type": "markdown",
   "metadata": {},
   "source": [
    "***Mehrfache Zuweisung***: Die Mehrfache Zuweisung kann dem Programmierer einiges erleichtern. So können in einer Anweisung mehrere Variablen zugewiesen werden."
   ]
  },
  {
   "cell_type": "code",
   "execution_count": null,
   "metadata": {},
   "outputs": [],
   "source": [
    "x, y, z = 3, 23.5, \"Moin!\"\n",
    "print(\"Mehrfache Zuweisung: \", \"x:\", x, \" y: \", y, \" z: \", z)"
   ]
  },
  {
   "cell_type": "markdown",
   "metadata": {},
   "source": [
    "***Verpacken*** eines Tupels:"
   ]
  },
  {
   "cell_type": "code",
   "execution_count": null,
   "metadata": {},
   "outputs": [],
   "source": [
    "# Verpacken eines Tupels:\n",
    "p = 7, 8\n",
    "print(\"Verpackt: \",p)\n",
    "# Entpacken eines Tupels:\n",
    "m, n = p\n",
    "print(\"Entpackt: m:\", m, \" n: \",n)"
   ]
  },
  {
   "cell_type": "markdown",
   "metadata": {},
   "source": [
    "Wenn auf der rechten Seite mehrere Werte stehen, werden diese in ein Tupel ***gepackt***. Stehen auf der linken Seite mehrere Variablem, wird das Tupel ***entpackt***. Dabei muss die Anzahl der variablen der Zuweisung entsprechen."
   ]
  },
  {
   "cell_type": "markdown",
   "metadata": {},
   "source": [
    "## Dictionarys\n",
    "Ein Dictionary ist im Prinzip wie ein Wörterbuch aufgebaut. Informationen sind einem Schlüsselbegriff zugeordnet. Ähnlich dem, wie man es bei einem Wörterbuch gewöhnt ist. <br>\n",
    "Dictionarys sind ***mutable*** also veränderbar. Es gibt immer 2 Paare: Ein eindeutigen **Schlüssel** und den dazugehörigen **Wert**. Über den Schlüssel greift man auf den Wert zu, bei dem es sich meistens um einen String handelt."
   ]
  },
  {
   "cell_type": "code",
   "execution_count": null,
   "metadata": {},
   "outputs": [],
   "source": [
    "dict = {\"Chair\":\"Stuhl\", \"Table\":\"Tisch\", \"Car\":\"Auto\"}\n",
    "print(dict)\n",
    "print(\"Anzahl der Elemente: \", len(dict))  \n",
    "# Ist das Element Table enthalten?\n",
    "if \"Chair\" in dict:\n",
    "    print(dict[\"Table\"])\n",
    "    \n",
    "# Element entfernen\n",
    "del dict[\"Car\"]\n",
    "if \"Car\" not in dict:\n",
    "    print(\"Car ist nicht mehr enthalten\")\n",
    "print(\"Anzahl der Elemente: \", len(dict))\n",
    "print()\n",
    "print(\"Vorher:\", dict)\n",
    "# Dictionary mit einem weiteren Dictionary aktualisieren:\n",
    "dict2={\"Bike\":\"Fahrrad\", \"Table\":\"Großer Tisch\"}\n",
    "print(\"Zweites Dictionary: \", dict2)\n",
    "print()\n",
    "\n",
    "# aktualisieren des Dictionarys:\n",
    "dict.update(dict2)\n",
    "\n",
    "print(\"Aktualisiertes Dictionary:\", dict)\n"
   ]
  },
  {
   "cell_type": "markdown",
   "metadata": {},
   "source": [
    "### Views\n",
    "Views können durch die Funktionen **keys()**, **items()** und **values()** erzeugt werden. Falls sich in den Dictionarys etwas verändert, werden diese sofort geändert.\n"
   ]
  },
  {
   "cell_type": "code",
   "execution_count": null,
   "metadata": {},
   "outputs": [],
   "source": [
    "dict = {\"Chair\":\"Stuhl\", \"Table\":\"Tisch\", \"Car\":\"Auto\"}\n",
    "w = dict.values()\n",
    "\n",
    "#Werte\n",
    "print(\"Werte:\")\n",
    "print()\n",
    "print(\"Anzahl Werte: \", len(w))\n",
    "\n",
    "for n in w:\n",
    "    print(n)\n",
    "print()\n",
    "\n",
    "if \"Tisch\" in w:\n",
    "    print(\"Tisch ist enthalten!\")\n",
    "    print()\n",
    "\n",
    "dict[\"Table\"] = [\"Tischchen\"]    \n",
    "\n",
    "if \"Tisch\" not in w:\n",
    "    print(\"Tisch ist nicht enthalten!\")\n",
    "    print()\n",
    "\n",
    "# Keys\n",
    "k = dict.keys()\n",
    "\n",
    "print(\"Keys:\")\n",
    "print()\n",
    "print(\"Anzahl Keys: \", len(k))\n",
    "print()\n",
    "\n",
    "for x in k:\n",
    "    print(x)\n",
    "\n",
    "print()\n",
    "\n",
    "if \"Table\" in k:\n",
    "    print(\"Table ist enthalten!\")\n",
    "    print()\n",
    "\n",
    "del dict[\"Table\"]\n",
    "\n",
    "if \"Table\" not in k:\n",
    "    print(\"Table ist nicht enthalten!\")\n",
    "    print()    \n",
    "\n",
    "# Items\n",
    "print(\"Items:\")\n",
    "print()\n",
    "\n",
    "i=dict.items()\n",
    "\n",
    "print(\"Anzahl der Items: \", len(i))\n",
    "print()\n",
    "\n",
    "for x in i:\n",
    "    print(x)\n",
    "print()\n",
    "\n",
    "if (\"Car\", \"Auto\") in i:\n",
    "    print(\"Car, Auto ist enthalten!\")"
   ]
  },
  {
   "cell_type": "markdown",
   "metadata": {},
   "source": [
    "## Sets (Mengen)\n",
    "Sets (auf deutsch Mengen) unterscheiden sich zu Listen und Tupels dadurch, das jedes Element des Sets nur einmal existiert. Mengen sind ungeordnet, daher können einzelne Elemente können daher nicht durch Slices bestimmt werden. Trotzdem lassen sich Operationen auf Mengen durchführen, die durch die Mengenlehre bekannt sind."
   ]
  },
  {
   "cell_type": "code",
   "execution_count": null,
   "metadata": {},
   "outputs": [],
   "source": [
    "# Vergleich zwischen Listen und Mengen\n",
    "\n",
    "li = [4, 7, 1, 1, 1]\n",
    "\n",
    "print(\"Eine Liste:\", li)\n",
    "print(\"Jedes Element ist mehrfach enthalten\")\n",
    "print()\n",
    "\n",
    "se = set([4, 7, 1, 1, 1])\n",
    "\n",
    "print(\"Ein Set:\", se)\n",
    "print(\"Jedes Element ist nur einmal enthalten\")\n",
    "print()\n",
    "\n",
    "for s in se:\n",
    "    print(s)\n",
    "print()\n",
    "\n",
    "if 7 in se:\n",
    "    print(\"7 ist enthalten!\")\n"
   ]
  },
  {
   "cell_type": "markdown",
   "metadata": {},
   "source": [
    "Folgende Funktionen können auf Mengen angewendet werden:\n",
    "* Kopieren der Menge mit **copy()**\n",
    "* Hinzufügen von Lementen mit **add()**\n",
    "* Verwerfen von Elementen mit **discard()**\n",
    "* Leeren von Mengen mit **clear()**\n"
   ]
  },
  {
   "cell_type": "code",
   "execution_count": null,
   "metadata": {},
   "outputs": [],
   "source": [
    "# Set erstellen\n",
    "s1 = set([20, 25, \"dd\"])\n",
    "print(\"Original: \", s1)\n",
    "print()\n",
    "\n",
    "#Set kopieren\n",
    "s2 = s1.copy()\n",
    "print(\"Kopie: \", s2)\n",
    "print()\n",
    "\n",
    "# Element hinzufügen\n",
    "s1.add(\"xyz\")\n",
    "print(\"Ein Element mehr: \", s1)\n",
    "print()\n",
    "\n",
    "# Element entfernen\n",
    "s1.discard(\"xyz\")\n",
    "print()\n",
    "\n",
    "# Leeren\n",
    "s1.clear()\n",
    "print(\"Leer: \", s1)"
   ]
  },
  {
   "cell_type": "markdown",
   "metadata": {},
   "source": [
    "Weitere Mengenoperationen können mit den folgenden Operatoren vorgenommen werden:\n",
    "* **|** oder - Vereinigungsmenge\n",
    "* **&** und - Schnittmenge\n",
    "* **-** minus - Differenzmenge\n",
    "* **^** hoch - sym. Differenzmenge"
   ]
  },
  {
   "cell_type": "code",
   "execution_count": null,
   "metadata": {},
   "outputs": [],
   "source": [
    "# Sets erstellen\n",
    "s1 = set([20, 25, \"dd\"])\n",
    "s2 = set([40, 50, \"ee\", 25])\n",
    "\n",
    "print(\"Set 1: \", s1)\n",
    "print(\"Set 2: \", s2)\n",
    "\n",
    "# Vereinigungsmenge\n",
    "s3 = s1 | s2\n",
    "print(\"Vereinigungsmenge: \", s3)\n",
    "\n",
    "#Schnittmenge\n",
    "s4 = s1 & s2\n",
    "print(\"Schnittmenge: \", s4)\n",
    "\n",
    "# Differenzmenge\n",
    "s5 = s1 - s2\n",
    "print(\"Differenz s1-s2:\", s4)\n",
    "print()\n",
    "\n",
    "s6 = s2 - s1\n",
    "print(\"Differenz s2-s1:\", s5)\n",
    "print()\n",
    "\n",
    "# sym. Diffenzmenge\n",
    "s7 = s1 ^ s2\n",
    "print(\"Sym. Differenzmenge: \", s7)\n",
    "print()"
   ]
  },
  {
   "cell_type": "markdown",
   "metadata": {},
   "source": [
    "### Frozensets\n",
    "Ein Frozenset ist eigentlich wie ein Set zu behandeln, nur das das set \"Frozen\" also eingefroren, **nicht veränderbar**, **immutable**."
   ]
  },
  {
   "cell_type": "code",
   "execution_count": null,
   "metadata": {},
   "outputs": [],
   "source": [
    "# Set erstellen\n",
    "s1 = set([20, 25, \"dd\"])\n",
    "\n",
    "print(\"Set: \", s1)\n",
    "print()\n",
    "\n",
    "# Frozenset erstellen\n",
    "fs1 = frozenset([20, 25, \"dd\"]) \n",
    "\n",
    "print(\"Frozenset:\", fs1)\n",
    "print()\n",
    "for i in fs1:\n",
    "    print(i)\n",
    "    \n"
   ]
  },
  {
   "cell_type": "markdown",
   "metadata": {},
   "source": [
    "Bei dem Versuch, das Frozenset zu ändern gibt es erwartungsgemäß eine **Fehlermeldung**:"
   ]
  },
  {
   "cell_type": "code",
   "execution_count": null,
   "metadata": {},
   "outputs": [],
   "source": [
    "fs1.discard(\"dd\")"
   ]
  },
 
